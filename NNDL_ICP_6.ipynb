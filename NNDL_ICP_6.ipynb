{
  "nbformat": 4,
  "nbformat_minor": 0,
  "metadata": {
    "colab": {
      "provenance": [],
      "toc_visible": true
    },
    "kernelspec": {
      "name": "python3",
      "display_name": "Python 3"
    },
    "language_info": {
      "name": "python"
    }
  },
  "cells": [
    {
      "cell_type": "code",
      "execution_count": 58,
      "metadata": {
        "colab": {
          "base_uri": "https://localhost:8080/"
        },
        "id": "1WJjf7HzHU8l",
        "outputId": "e0ca80be-c735-48f2-96e2-67ff999f356a"
      },
      "outputs": [
        {
          "output_type": "stream",
          "name": "stdout",
          "text": [
            "Drive already mounted at /content/gdrive; to attempt to forcibly remount, call drive.mount(\"/content/gdrive\", force_remount=True).\n"
          ]
        }
      ],
      "source": [
        "# question 1\n",
        "# Predicting the diabetes disease\n",
        "\n",
        "from google.colab import drive\n",
        "drive.mount('/content/gdrive')\n"
      ]
    },
    {
      "cell_type": "code",
      "source": [
        "path_to_csv = '/content/gdrive/My Drive/diabetes.csv'"
      ],
      "metadata": {
        "id": "j-GuukX3I9Sr"
      },
      "execution_count": 59,
      "outputs": []
    },
    {
      "cell_type": "code",
      "source": [
        "import keras\n",
        "import pandas\n",
        "from keras.models import Sequential\n",
        "from keras.layers import Dense, Activation\n",
        "\n",
        "# load dataset\n",
        "from sklearn.model_selection import train_test_split\n",
        "import pandas as pd\n",
        "import numpy as np\n",
        "\n",
        "dataset = pd.read_csv(path_to_csv, header=None).values\n",
        "\n",
        "X_train, X_test, Y_train, Y_test = train_test_split(dataset[:,0:8], dataset[:,8],\n",
        "                                                    test_size=0.25, random_state=87)\n",
        "np.random.seed(155)\n",
        "my_first_nn = Sequential() # create model\n",
        "my_first_nn.add(Dense(20, input_dim=8, activation='relu')) # hidden layer\n",
        "my_first_nn.add(Dense(1, activation='sigmoid')) # output layer\n",
        "my_first_nn.compile(loss='binary_crossentropy', optimizer='adam', metrics=['acc'])\n",
        "my_first_nn_fitted = my_first_nn.fit(X_train, Y_train, epochs=100,\n",
        "                                     initial_epoch=0)\n",
        "print(my_first_nn.summary())\n",
        "print(my_first_nn.evaluate(X_test, Y_test))"
      ],
      "metadata": {
        "colab": {
          "base_uri": "https://localhost:8080/"
        },
        "id": "XwOupJpyJDix",
        "outputId": "562783b0-a503-4d60-f80b-928fb07f179d"
      },
      "execution_count": 61,
      "outputs": [
        {
          "output_type": "stream",
          "name": "stdout",
          "text": [
            "Epoch 1/100\n",
            "18/18 [==============================] - 1s 2ms/step - loss: 38.6303 - acc: 0.3385\n",
            "Epoch 2/100\n",
            "18/18 [==============================] - 0s 2ms/step - loss: 20.4264 - acc: 0.3455\n",
            "Epoch 3/100\n",
            "18/18 [==============================] - 0s 2ms/step - loss: 6.7346 - acc: 0.4444\n",
            "Epoch 4/100\n",
            "18/18 [==============================] - 0s 2ms/step - loss: 4.2149 - acc: 0.5903\n",
            "Epoch 5/100\n",
            "18/18 [==============================] - 0s 4ms/step - loss: 3.1375 - acc: 0.5521\n",
            "Epoch 6/100\n",
            "18/18 [==============================] - 0s 6ms/step - loss: 2.8812 - acc: 0.5816\n",
            "Epoch 7/100\n",
            "18/18 [==============================] - 0s 4ms/step - loss: 2.6903 - acc: 0.5816\n",
            "Epoch 8/100\n",
            "18/18 [==============================] - 0s 3ms/step - loss: 2.5017 - acc: 0.5764\n",
            "Epoch 9/100\n",
            "18/18 [==============================] - 0s 3ms/step - loss: 2.2983 - acc: 0.5851\n",
            "Epoch 10/100\n",
            "18/18 [==============================] - 0s 3ms/step - loss: 2.1054 - acc: 0.5955\n",
            "Epoch 11/100\n",
            "18/18 [==============================] - 0s 2ms/step - loss: 1.9553 - acc: 0.5816\n",
            "Epoch 12/100\n",
            "18/18 [==============================] - 0s 3ms/step - loss: 1.8131 - acc: 0.5903\n",
            "Epoch 13/100\n",
            "18/18 [==============================] - 0s 2ms/step - loss: 1.6800 - acc: 0.5747\n",
            "Epoch 14/100\n",
            "18/18 [==============================] - 0s 2ms/step - loss: 1.6368 - acc: 0.5903\n",
            "Epoch 15/100\n",
            "18/18 [==============================] - 0s 2ms/step - loss: 1.4881 - acc: 0.6024\n",
            "Epoch 16/100\n",
            "18/18 [==============================] - 0s 2ms/step - loss: 1.3888 - acc: 0.6042\n",
            "Epoch 17/100\n",
            "18/18 [==============================] - 0s 3ms/step - loss: 1.2918 - acc: 0.6007\n",
            "Epoch 18/100\n",
            "18/18 [==============================] - 0s 2ms/step - loss: 1.2735 - acc: 0.5920\n",
            "Epoch 19/100\n",
            "18/18 [==============================] - 0s 2ms/step - loss: 1.1575 - acc: 0.5990\n",
            "Epoch 20/100\n",
            "18/18 [==============================] - 0s 2ms/step - loss: 1.1507 - acc: 0.5990\n",
            "Epoch 21/100\n",
            "18/18 [==============================] - 0s 2ms/step - loss: 1.1229 - acc: 0.5885\n",
            "Epoch 22/100\n",
            "18/18 [==============================] - 0s 2ms/step - loss: 1.0473 - acc: 0.5955\n",
            "Epoch 23/100\n",
            "18/18 [==============================] - 0s 2ms/step - loss: 1.0109 - acc: 0.6076\n",
            "Epoch 24/100\n",
            "18/18 [==============================] - 0s 2ms/step - loss: 0.9877 - acc: 0.6198\n",
            "Epoch 25/100\n",
            "18/18 [==============================] - 0s 2ms/step - loss: 0.9572 - acc: 0.6250\n",
            "Epoch 26/100\n",
            "18/18 [==============================] - 0s 2ms/step - loss: 0.9369 - acc: 0.6059\n",
            "Epoch 27/100\n",
            "18/18 [==============================] - 0s 2ms/step - loss: 0.9351 - acc: 0.6163\n",
            "Epoch 28/100\n",
            "18/18 [==============================] - 0s 2ms/step - loss: 0.9092 - acc: 0.6337\n",
            "Epoch 29/100\n",
            "18/18 [==============================] - 0s 2ms/step - loss: 0.8748 - acc: 0.6250\n",
            "Epoch 30/100\n",
            "18/18 [==============================] - 0s 2ms/step - loss: 0.8745 - acc: 0.6319\n",
            "Epoch 31/100\n",
            "18/18 [==============================] - 0s 2ms/step - loss: 0.8727 - acc: 0.6250\n",
            "Epoch 32/100\n",
            "18/18 [==============================] - 0s 2ms/step - loss: 0.8312 - acc: 0.6337\n",
            "Epoch 33/100\n",
            "18/18 [==============================] - 0s 2ms/step - loss: 0.8285 - acc: 0.6545\n",
            "Epoch 34/100\n",
            "18/18 [==============================] - 0s 4ms/step - loss: 0.8331 - acc: 0.6181\n",
            "Epoch 35/100\n",
            "18/18 [==============================] - 0s 4ms/step - loss: 0.7904 - acc: 0.6510\n",
            "Epoch 36/100\n",
            "18/18 [==============================] - 0s 4ms/step - loss: 0.8405 - acc: 0.6458\n",
            "Epoch 37/100\n",
            "18/18 [==============================] - 0s 4ms/step - loss: 0.7822 - acc: 0.6354\n",
            "Epoch 38/100\n",
            "18/18 [==============================] - 0s 4ms/step - loss: 0.7727 - acc: 0.6441\n",
            "Epoch 39/100\n",
            "18/18 [==============================] - 0s 3ms/step - loss: 0.7705 - acc: 0.6476\n",
            "Epoch 40/100\n",
            "18/18 [==============================] - 0s 3ms/step - loss: 0.7668 - acc: 0.6424\n",
            "Epoch 41/100\n",
            "18/18 [==============================] - 0s 2ms/step - loss: 0.7671 - acc: 0.6545\n",
            "Epoch 42/100\n",
            "18/18 [==============================] - 0s 3ms/step - loss: 0.7525 - acc: 0.6597\n",
            "Epoch 43/100\n",
            "18/18 [==============================] - 0s 3ms/step - loss: 0.7961 - acc: 0.6510\n",
            "Epoch 44/100\n",
            "18/18 [==============================] - 0s 3ms/step - loss: 0.7336 - acc: 0.6562\n",
            "Epoch 45/100\n",
            "18/18 [==============================] - 0s 4ms/step - loss: 0.7467 - acc: 0.6667\n",
            "Epoch 46/100\n",
            "18/18 [==============================] - 0s 4ms/step - loss: 0.7137 - acc: 0.6562\n",
            "Epoch 47/100\n",
            "18/18 [==============================] - 0s 4ms/step - loss: 0.7087 - acc: 0.6649\n",
            "Epoch 48/100\n",
            "18/18 [==============================] - 0s 2ms/step - loss: 0.6900 - acc: 0.6632\n",
            "Epoch 49/100\n",
            "18/18 [==============================] - 0s 2ms/step - loss: 0.7489 - acc: 0.6615\n",
            "Epoch 50/100\n",
            "18/18 [==============================] - 0s 2ms/step - loss: 0.6970 - acc: 0.6667\n",
            "Epoch 51/100\n",
            "18/18 [==============================] - 0s 2ms/step - loss: 0.6911 - acc: 0.6701\n",
            "Epoch 52/100\n",
            "18/18 [==============================] - 0s 2ms/step - loss: 0.6965 - acc: 0.6840\n",
            "Epoch 53/100\n",
            "18/18 [==============================] - 0s 2ms/step - loss: 0.6860 - acc: 0.6684\n",
            "Epoch 54/100\n",
            "18/18 [==============================] - 0s 2ms/step - loss: 0.7233 - acc: 0.6597\n",
            "Epoch 55/100\n",
            "18/18 [==============================] - 0s 3ms/step - loss: 0.7185 - acc: 0.6562\n",
            "Epoch 56/100\n",
            "18/18 [==============================] - 0s 3ms/step - loss: 0.6637 - acc: 0.6788\n",
            "Epoch 57/100\n",
            "18/18 [==============================] - 0s 2ms/step - loss: 0.6695 - acc: 0.6719\n",
            "Epoch 58/100\n",
            "18/18 [==============================] - 0s 2ms/step - loss: 0.6834 - acc: 0.6615\n",
            "Epoch 59/100\n",
            "18/18 [==============================] - 0s 2ms/step - loss: 0.6966 - acc: 0.6597\n",
            "Epoch 60/100\n",
            "18/18 [==============================] - 0s 3ms/step - loss: 0.6636 - acc: 0.6736\n",
            "Epoch 61/100\n",
            "18/18 [==============================] - 0s 2ms/step - loss: 0.6852 - acc: 0.6649\n",
            "Epoch 62/100\n",
            "18/18 [==============================] - 0s 2ms/step - loss: 0.6695 - acc: 0.6649\n",
            "Epoch 63/100\n",
            "18/18 [==============================] - 0s 2ms/step - loss: 0.6526 - acc: 0.6788\n",
            "Epoch 64/100\n",
            "18/18 [==============================] - 0s 2ms/step - loss: 0.6564 - acc: 0.6840\n",
            "Epoch 65/100\n",
            "18/18 [==============================] - 0s 2ms/step - loss: 0.6606 - acc: 0.6788\n",
            "Epoch 66/100\n",
            "18/18 [==============================] - 0s 2ms/step - loss: 0.6718 - acc: 0.6840\n",
            "Epoch 67/100\n",
            "18/18 [==============================] - 0s 2ms/step - loss: 0.6709 - acc: 0.6736\n",
            "Epoch 68/100\n",
            "18/18 [==============================] - 0s 2ms/step - loss: 0.6612 - acc: 0.6823\n",
            "Epoch 69/100\n",
            "18/18 [==============================] - 0s 2ms/step - loss: 0.6777 - acc: 0.6823\n",
            "Epoch 70/100\n",
            "18/18 [==============================] - 0s 2ms/step - loss: 0.6881 - acc: 0.6858\n",
            "Epoch 71/100\n",
            "18/18 [==============================] - 0s 2ms/step - loss: 0.6637 - acc: 0.6910\n",
            "Epoch 72/100\n",
            "18/18 [==============================] - 0s 2ms/step - loss: 0.6521 - acc: 0.6997\n",
            "Epoch 73/100\n",
            "18/18 [==============================] - 0s 2ms/step - loss: 0.6482 - acc: 0.6997\n",
            "Epoch 74/100\n",
            "18/18 [==============================] - 0s 2ms/step - loss: 0.6743 - acc: 0.6858\n",
            "Epoch 75/100\n",
            "18/18 [==============================] - 0s 2ms/step - loss: 0.6674 - acc: 0.6736\n",
            "Epoch 76/100\n",
            "18/18 [==============================] - 0s 2ms/step - loss: 0.6391 - acc: 0.6840\n",
            "Epoch 77/100\n",
            "18/18 [==============================] - 0s 2ms/step - loss: 0.6412 - acc: 0.6962\n",
            "Epoch 78/100\n",
            "18/18 [==============================] - 0s 2ms/step - loss: 0.6261 - acc: 0.6927\n",
            "Epoch 79/100\n",
            "18/18 [==============================] - 0s 2ms/step - loss: 0.6394 - acc: 0.6979\n",
            "Epoch 80/100\n",
            "18/18 [==============================] - 0s 2ms/step - loss: 0.6228 - acc: 0.6927\n",
            "Epoch 81/100\n",
            "18/18 [==============================] - 0s 2ms/step - loss: 0.6354 - acc: 0.6997\n",
            "Epoch 82/100\n",
            "18/18 [==============================] - 0s 2ms/step - loss: 0.7178 - acc: 0.6649\n",
            "Epoch 83/100\n",
            "18/18 [==============================] - 0s 2ms/step - loss: 0.6639 - acc: 0.6771\n",
            "Epoch 84/100\n",
            "18/18 [==============================] - 0s 2ms/step - loss: 0.6643 - acc: 0.7066\n",
            "Epoch 85/100\n",
            "18/18 [==============================] - 0s 2ms/step - loss: 0.6178 - acc: 0.6840\n",
            "Epoch 86/100\n",
            "18/18 [==============================] - 0s 2ms/step - loss: 0.6105 - acc: 0.7101\n",
            "Epoch 87/100\n",
            "18/18 [==============================] - 0s 2ms/step - loss: 0.6330 - acc: 0.6997\n",
            "Epoch 88/100\n",
            "18/18 [==============================] - 0s 2ms/step - loss: 0.6399 - acc: 0.6979\n",
            "Epoch 89/100\n",
            "18/18 [==============================] - 0s 2ms/step - loss: 0.6460 - acc: 0.6736\n",
            "Epoch 90/100\n",
            "18/18 [==============================] - 0s 2ms/step - loss: 0.6163 - acc: 0.7083\n",
            "Epoch 91/100\n",
            "18/18 [==============================] - 0s 2ms/step - loss: 0.6215 - acc: 0.6997\n",
            "Epoch 92/100\n",
            "18/18 [==============================] - 0s 2ms/step - loss: 0.6157 - acc: 0.7031\n",
            "Epoch 93/100\n",
            "18/18 [==============================] - 0s 2ms/step - loss: 0.6244 - acc: 0.6823\n",
            "Epoch 94/100\n",
            "18/18 [==============================] - 0s 2ms/step - loss: 0.6257 - acc: 0.7049\n",
            "Epoch 95/100\n",
            "18/18 [==============================] - 0s 2ms/step - loss: 0.5983 - acc: 0.7135\n",
            "Epoch 96/100\n",
            "18/18 [==============================] - 0s 3ms/step - loss: 0.6055 - acc: 0.7222\n",
            "Epoch 97/100\n",
            "18/18 [==============================] - 0s 3ms/step - loss: 0.6153 - acc: 0.7170\n",
            "Epoch 98/100\n",
            "18/18 [==============================] - 0s 2ms/step - loss: 0.6590 - acc: 0.7049\n",
            "Epoch 99/100\n",
            "18/18 [==============================] - 0s 4ms/step - loss: 0.6123 - acc: 0.7274\n",
            "Epoch 100/100\n",
            "18/18 [==============================] - 0s 2ms/step - loss: 0.6044 - acc: 0.7188\n",
            "Model: \"sequential_15\"\n",
            "_________________________________________________________________\n",
            " Layer (type)                Output Shape              Param #   \n",
            "=================================================================\n",
            " dense_53 (Dense)            (None, 20)                180       \n",
            "                                                                 \n",
            " dense_54 (Dense)            (None, 1)                 21        \n",
            "                                                                 \n",
            "=================================================================\n",
            "Total params: 201 (804.00 Byte)\n",
            "Trainable params: 201 (804.00 Byte)\n",
            "Non-trainable params: 0 (0.00 Byte)\n",
            "_________________________________________________________________\n",
            "None\n",
            "6/6 [==============================] - 0s 6ms/step - loss: 0.6675 - acc: 0.6615\n",
            "[0.6675155162811279, 0.6614583134651184]\n"
          ]
        }
      ]
    },
    {
      "cell_type": "code",
      "source": [
        "# 1.a Add more Dense layers to the existing code and check how the accuracy changes."
      ],
      "metadata": {
        "id": "e0b9cP6tVSsN"
      },
      "execution_count": 62,
      "outputs": []
    },
    {
      "cell_type": "code",
      "source": [
        "my_first_nn = Sequential() # create model\n",
        "my_first_nn.add(Dense(20, input_dim=8, activation='relu')) # hidden layer with input\n",
        "my_first_nn.add(Dense(20, activation='relu')) # hidden layer\n",
        "my_first_nn.add(Dense(20, activation='relu')) # hidden layer\n",
        "my_first_nn.add(Dense(20, activation='relu')) # hidden layer\n",
        "my_first_nn.add(Dense(20, activation='relu')) # hidden layer\n",
        "my_first_nn.add(Dense(20, activation='relu')) # hidden layer\n",
        "\n",
        "my_first_nn.add(Dense(1, activation='sigmoid')) # output layer\n",
        "my_first_nn.compile(loss='binary_crossentropy', optimizer='adam',metrics=['acc']) # compilation\n",
        "my_first_nn_fitted = my_first_nn.fit(X_train, Y_train, epochs=100,verbose=0, initial_epoch=0) # Training\n",
        "print(my_first_nn.summary()) #Summary\n",
        "print(my_first_nn.evaluate(X_test, Y_test)) #Evaluating"
      ],
      "metadata": {
        "colab": {
          "base_uri": "https://localhost:8080/"
        },
        "id": "p8x054iKVW3w",
        "outputId": "70c4580b-2873-452e-f461-36ae10f9f9a2"
      },
      "execution_count": 63,
      "outputs": [
        {
          "output_type": "stream",
          "name": "stdout",
          "text": [
            "Model: \"sequential_16\"\n",
            "_________________________________________________________________\n",
            " Layer (type)                Output Shape              Param #   \n",
            "=================================================================\n",
            " dense_55 (Dense)            (None, 20)                180       \n",
            "                                                                 \n",
            " dense_56 (Dense)            (None, 20)                420       \n",
            "                                                                 \n",
            " dense_57 (Dense)            (None, 20)                420       \n",
            "                                                                 \n",
            " dense_58 (Dense)            (None, 20)                420       \n",
            "                                                                 \n",
            " dense_59 (Dense)            (None, 20)                420       \n",
            "                                                                 \n",
            " dense_60 (Dense)            (None, 20)                420       \n",
            "                                                                 \n",
            " dense_61 (Dense)            (None, 1)                 21        \n",
            "                                                                 \n",
            "=================================================================\n",
            "Total params: 2301 (8.99 KB)\n",
            "Trainable params: 2301 (8.99 KB)\n",
            "Non-trainable params: 0 (0.00 Byte)\n",
            "_________________________________________________________________\n",
            "None\n",
            "6/6 [==============================] - 0s 4ms/step - loss: 0.6381 - acc: 0.7240\n",
            "[0.6381146311759949, 0.7239583134651184]\n"
          ]
        }
      ]
    },
    {
      "cell_type": "code",
      "source": [
        "#2. Change the data source to Breast Cancer dataset available in the source code folder and make required changes. Report accuracy of the model."
      ],
      "metadata": {
        "id": "yQfFqjkMWYJr"
      },
      "execution_count": 64,
      "outputs": []
    },
    {
      "cell_type": "code",
      "source": [
        "path_to_csv = '/content/gdrive/My Drive/breastcancer.csv'\n",
        "\n",
        "#Importing packages for creating arrays\n",
        "import numpy as np\n",
        "import pandas as pd\n",
        "\n",
        "#Importing packages to convert Categorical data into Numerical\n",
        "from sklearn.preprocessing import LabelEncoder\n",
        "\n",
        "#Importing packages for splitting data\n",
        "from sklearn.model_selection import train_test_split\n",
        "\n",
        "#Importing packages for keras\n",
        "from keras.models import Sequential\n",
        "from keras.layers import Dense, Activation\n",
        "\n",
        "\n",
        "#Loading the Dataset\n",
        "dataset = pd.read_csv(path_to_csv, header=0)\n",
        "\n"
      ],
      "metadata": {
        "id": "AcyAD1ebWmYc"
      },
      "execution_count": 65,
      "outputs": []
    },
    {
      "cell_type": "code",
      "source": [
        "#converting Categorical data into Numerical Using Label Encoding\n",
        "le=LabelEncoder()\n",
        "dataset['diagnosis'] = le.fit_transform(dataset['diagnosis'])\n",
        "\n",
        "\n",
        "dataset.info()\n"
      ],
      "metadata": {
        "colab": {
          "base_uri": "https://localhost:8080/"
        },
        "id": "u7qMQzoYXJac",
        "outputId": "4f6f151e-bd40-4a49-cefd-885fee90bfc1"
      },
      "execution_count": 66,
      "outputs": [
        {
          "output_type": "stream",
          "name": "stdout",
          "text": [
            "<class 'pandas.core.frame.DataFrame'>\n",
            "RangeIndex: 569 entries, 0 to 568\n",
            "Data columns (total 33 columns):\n",
            " #   Column                   Non-Null Count  Dtype  \n",
            "---  ------                   --------------  -----  \n",
            " 0   id                       569 non-null    int64  \n",
            " 1   diagnosis                569 non-null    int64  \n",
            " 2   radius_mean              569 non-null    float64\n",
            " 3   texture_mean             569 non-null    float64\n",
            " 4   perimeter_mean           569 non-null    float64\n",
            " 5   area_mean                569 non-null    float64\n",
            " 6   smoothness_mean          569 non-null    float64\n",
            " 7   compactness_mean         569 non-null    float64\n",
            " 8   concavity_mean           569 non-null    float64\n",
            " 9   concave points_mean      569 non-null    float64\n",
            " 10  symmetry_mean            569 non-null    float64\n",
            " 11  fractal_dimension_mean   569 non-null    float64\n",
            " 12  radius_se                569 non-null    float64\n",
            " 13  texture_se               569 non-null    float64\n",
            " 14  perimeter_se             569 non-null    float64\n",
            " 15  area_se                  569 non-null    float64\n",
            " 16  smoothness_se            569 non-null    float64\n",
            " 17  compactness_se           569 non-null    float64\n",
            " 18  concavity_se             569 non-null    float64\n",
            " 19  concave points_se        569 non-null    float64\n",
            " 20  symmetry_se              569 non-null    float64\n",
            " 21  fractal_dimension_se     569 non-null    float64\n",
            " 22  radius_worst             569 non-null    float64\n",
            " 23  texture_worst            569 non-null    float64\n",
            " 24  perimeter_worst          569 non-null    float64\n",
            " 25  area_worst               569 non-null    float64\n",
            " 26  smoothness_worst         569 non-null    float64\n",
            " 27  compactness_worst        569 non-null    float64\n",
            " 28  concavity_worst          569 non-null    float64\n",
            " 29  concave points_worst     569 non-null    float64\n",
            " 30  symmetry_worst           569 non-null    float64\n",
            " 31  fractal_dimension_worst  569 non-null    float64\n",
            " 32  Unnamed: 32              0 non-null      float64\n",
            "dtypes: float64(31), int64(2)\n",
            "memory usage: 146.8 KB\n"
          ]
        }
      ]
    },
    {
      "cell_type": "code",
      "source": [
        "#Splitting data into Feature Matrix & Label Matrix\n",
        "X_train, X_test, Y_train, Y_test = train_test_split(dataset.iloc[:,2:32], dataset.iloc[:,1], test_size=0.25, random_state=87)\n",
        "\n",
        "\n",
        "my_first_nn = Sequential() # create model\n",
        "my_first_nn.add(Dense(20, input_dim=30, activation='relu')) # hidden layer\n",
        "my_first_nn.add(Dense(20, input_dim=30, activation='relu')) # hidden layer\n",
        "my_first_nn.add(Dense(20, input_dim=30, activation='relu')) # hidden layer\n",
        "my_first_nn.add(Dense(1, activation='sigmoid')) # output layer\n",
        "my_first_nn.compile(loss='binary_crossentropy', optimizer='adam',metrics=['acc']) # compilation\n",
        "my_first_nn_fitted = my_first_nn.fit(X_train, Y_train, epochs=100,verbose=0, initial_epoch=0) # Training\n",
        "print(my_first_nn.summary()) #Summary\n",
        "print(my_first_nn.evaluate(X_test, Y_test)) #Evaluating"
      ],
      "metadata": {
        "colab": {
          "base_uri": "https://localhost:8080/"
        },
        "id": "oRRuLqqOXiFm",
        "outputId": "223fa74b-f689-4f5f-807c-1f24115b7326"
      },
      "execution_count": 67,
      "outputs": [
        {
          "output_type": "stream",
          "name": "stdout",
          "text": [
            "Model: \"sequential_17\"\n",
            "_________________________________________________________________\n",
            " Layer (type)                Output Shape              Param #   \n",
            "=================================================================\n",
            " dense_62 (Dense)            (None, 20)                620       \n",
            "                                                                 \n",
            " dense_63 (Dense)            (None, 20)                420       \n",
            "                                                                 \n",
            " dense_64 (Dense)            (None, 20)                420       \n",
            "                                                                 \n",
            " dense_65 (Dense)            (None, 1)                 21        \n",
            "                                                                 \n",
            "=================================================================\n",
            "Total params: 1481 (5.79 KB)\n",
            "Trainable params: 1481 (5.79 KB)\n",
            "Non-trainable params: 0 (0.00 Byte)\n",
            "_________________________________________________________________\n",
            "None\n",
            "5/5 [==============================] - 0s 7ms/step - loss: 0.3188 - acc: 0.8881\n",
            "[0.31882038712501526, 0.8881118893623352]\n"
          ]
        }
      ]
    },
    {
      "cell_type": "code",
      "source": [
        "#3. Normalize the data before feeding the data to the model and check how the normalization change your accuracy\n"
      ],
      "metadata": {
        "id": "Zd-u87ynXzVl"
      },
      "execution_count": 68,
      "outputs": []
    },
    {
      "cell_type": "code",
      "source": [
        "#importing packages for Normalization\n",
        "from sklearn.preprocessing import StandardScaler"
      ],
      "metadata": {
        "id": "MjCBZeTnX4xA"
      },
      "execution_count": 69,
      "outputs": []
    },
    {
      "cell_type": "code",
      "source": [
        "my_first_nn = Sequential() # create model\n",
        "my_first_nn.add(Dense(20, input_dim=30, activation='relu')) # hidden layer\n",
        "my_first_nn.add(Dense(1, activation='sigmoid')) # output layer\n",
        "my_first_nn.compile(loss='binary_crossentropy', optimizer='adam',metrics=['acc']) # compilation\n",
        "\n",
        "sc = StandardScaler() #Create Model\n",
        "X_train = sc.fit_transform(X_train) #Fit to data, then transform it.\n",
        "X_test = sc.transform(X_test) # Perform standardization by centering and scaling\n",
        "\n",
        "my_first_nn_fitted = my_first_nn.fit(X_train, Y_train, epochs=100,verbose=0, initial_epoch=0) # Training\n",
        "print(my_first_nn.summary()) #Summary\n",
        "print(my_first_nn.evaluate(X_test, Y_test)) #Evaluating"
      ],
      "metadata": {
        "colab": {
          "base_uri": "https://localhost:8080/"
        },
        "id": "oh0cUSDaYEJe",
        "outputId": "5844f37a-11f5-488a-93e0-ff4c634490bd"
      },
      "execution_count": 70,
      "outputs": [
        {
          "output_type": "stream",
          "name": "stdout",
          "text": [
            "Model: \"sequential_18\"\n",
            "_________________________________________________________________\n",
            " Layer (type)                Output Shape              Param #   \n",
            "=================================================================\n",
            " dense_66 (Dense)            (None, 20)                620       \n",
            "                                                                 \n",
            " dense_67 (Dense)            (None, 1)                 21        \n",
            "                                                                 \n",
            "=================================================================\n",
            "Total params: 641 (2.50 KB)\n",
            "Trainable params: 641 (2.50 KB)\n",
            "Non-trainable params: 0 (0.00 Byte)\n",
            "_________________________________________________________________\n",
            "None\n",
            "5/5 [==============================] - 0s 5ms/step - loss: 0.1630 - acc: 0.9650\n",
            "[0.16301463544368744, 0.9650349617004395]\n"
          ]
        }
      ]
    },
    {
      "cell_type": "code",
      "source": [
        "# Question 2"
      ],
      "metadata": {
        "id": "4h_v6CUCYo9W"
      },
      "execution_count": null,
      "outputs": []
    },
    {
      "cell_type": "code",
      "source": [
        "from keras import Sequential\n",
        "from keras.datasets import mnist\n",
        "import numpy as np\n",
        "from keras.layers import Dense\n",
        "from keras.utils import to_categorical\n",
        "\n",
        "import matplotlib.pyplot as plt\n",
        "\n",
        "(train_images,train_labels),(test_images, test_labels) = mnist.load_data()\n",
        "\n",
        "#process the data\n",
        "#1. convert each image of shape 28*28 to 784 dimensional which will be fed to the network as a single feature\n",
        "dimData = np.prod(train_images.shape[1:])\n",
        "print(dimData)\n",
        "train_data = train_images.reshape(train_images.shape[0],dimData)\n",
        "test_data = test_images.reshape(test_images.shape[0],dimData)\n",
        "\n",
        "#convert data to float and scale values between 0 and 1\n",
        "train_data = train_data.astype('float')\n",
        "test_data = test_data.astype('float')\n",
        "#scale data\n",
        "train_data /=255.0\n",
        "test_data /=255.0\n",
        "#change the labels frominteger to one-hot encoding. to_categorical is doing the same thing as LabelEncoder()\n",
        "train_labels_one_hot = to_categorical(train_labels)\n",
        "test_labels_one_hot = to_categorical(test_labels)\n",
        "\n",
        "#creating network\n",
        "model = Sequential()\n",
        "model.add(Dense(512, activation='relu', input_shape=(dimData,)))\n",
        "model.add(Dense(512, activation='relu'))\n",
        "model.add(Dense(10, activation='softmax'))\n"
      ],
      "metadata": {
        "colab": {
          "base_uri": "https://localhost:8080/"
        },
        "id": "tt3AMxu0Yt2M",
        "outputId": "9227a2b7-aedd-4639-8b6c-8f0abd63bbe5"
      },
      "execution_count": 71,
      "outputs": [
        {
          "output_type": "stream",
          "name": "stdout",
          "text": [
            "784\n"
          ]
        }
      ]
    },
    {
      "cell_type": "code",
      "source": [
        "#1. Plot the loss and accuracy for both training data and validation data using the history object in the source code.\n"
      ],
      "metadata": {
        "id": "Wt4EuugDZKk8"
      },
      "execution_count": 72,
      "outputs": []
    },
    {
      "cell_type": "code",
      "source": [
        "model.compile(optimizer='rmsprop', loss='categorical_crossentropy', metrics=['accuracy'])\n",
        "history = model.fit(train_data, train_labels_one_hot, batch_size=256, epochs=10, verbose=1,\n",
        "                   validation_data=(test_data, test_labels_one_hot))"
      ],
      "metadata": {
        "colab": {
          "base_uri": "https://localhost:8080/"
        },
        "id": "10FZDdJ_ZTOy",
        "outputId": "6e8a917e-1224-4fab-e6b3-146bda966baf"
      },
      "execution_count": 74,
      "outputs": [
        {
          "output_type": "stream",
          "name": "stdout",
          "text": [
            "Epoch 1/10\n",
            "235/235 [==============================] - 7s 27ms/step - loss: 0.2900 - accuracy: 0.9114 - val_loss: 0.1458 - val_accuracy: 0.9531\n",
            "Epoch 2/10\n",
            "235/235 [==============================] - 9s 36ms/step - loss: 0.0982 - accuracy: 0.9700 - val_loss: 0.1424 - val_accuracy: 0.9574\n",
            "Epoch 3/10\n",
            "235/235 [==============================] - 8s 35ms/step - loss: 0.0628 - accuracy: 0.9802 - val_loss: 0.1335 - val_accuracy: 0.9565\n",
            "Epoch 4/10\n",
            "235/235 [==============================] - 6s 25ms/step - loss: 0.0432 - accuracy: 0.9861 - val_loss: 0.1094 - val_accuracy: 0.9675\n",
            "Epoch 5/10\n",
            "235/235 [==============================] - 8s 34ms/step - loss: 0.0303 - accuracy: 0.9901 - val_loss: 0.0814 - val_accuracy: 0.9762\n",
            "Epoch 6/10\n",
            "235/235 [==============================] - 6s 25ms/step - loss: 0.0222 - accuracy: 0.9930 - val_loss: 0.0725 - val_accuracy: 0.9786\n",
            "Epoch 7/10\n",
            "235/235 [==============================] - 6s 26ms/step - loss: 0.0173 - accuracy: 0.9941 - val_loss: 0.0745 - val_accuracy: 0.9789\n",
            "Epoch 8/10\n",
            "235/235 [==============================] - 7s 32ms/step - loss: 0.0130 - accuracy: 0.9960 - val_loss: 0.0788 - val_accuracy: 0.9786\n",
            "Epoch 9/10\n",
            "235/235 [==============================] - 6s 24ms/step - loss: 0.0104 - accuracy: 0.9965 - val_loss: 0.0738 - val_accuracy: 0.9810\n",
            "Epoch 10/10\n",
            "235/235 [==============================] - 8s 32ms/step - loss: 0.0076 - accuracy: 0.9976 - val_loss: 0.0645 - val_accuracy: 0.9830\n"
          ]
        }
      ]
    },
    {
      "cell_type": "code",
      "source": [
        "[test_loss, test_acc] = model.evaluate(test_data, test_labels_one_hot)\n",
        "print(\"Evaluation result on Test Data : Loss = {}, accuracy = {}\".format(test_loss, test_acc))\n",
        "\n",
        "history.history.keys()"
      ],
      "metadata": {
        "colab": {
          "base_uri": "https://localhost:8080/"
        },
        "id": "frGAzxwvZz96",
        "outputId": "76956d9a-875f-4852-8381-8a821be81d88"
      },
      "execution_count": 75,
      "outputs": [
        {
          "output_type": "stream",
          "name": "stdout",
          "text": [
            "313/313 [==============================] - 1s 4ms/step - loss: 0.0645 - accuracy: 0.9830\n",
            "Evaluation result on Test Data : Loss = 0.06447210907936096, accuracy = 0.9829999804496765\n"
          ]
        },
        {
          "output_type": "execute_result",
          "data": {
            "text/plain": [
              "dict_keys(['loss', 'accuracy', 'val_loss', 'val_accuracy'])"
            ]
          },
          "metadata": {},
          "execution_count": 75
        }
      ]
    },
    {
      "cell_type": "code",
      "source": [
        "plt.plot(history.history['accuracy'])\n",
        "plt.plot(history.history['val_accuracy'])\n",
        "plt.plot(history.history['loss'])\n",
        "plt.plot(history.history['val_loss'])\n",
        "plt.title('model accuracy')\n",
        "plt.ylabel('accuracy')\n",
        "plt.xlabel('epoch')\n",
        "plt.legend(['accuracy', 'val_accuracy','loss','val_loss'], loc='upper left')\n",
        "plt.show()\n"
      ],
      "metadata": {
        "colab": {
          "base_uri": "https://localhost:8080/",
          "height": 472
        },
        "id": "LA0f-9wcZ5NU",
        "outputId": "d73092df-5f83-4bc0-988a-10c2ce311dfa"
      },
      "execution_count": 78,
      "outputs": [
        {
          "output_type": "display_data",
          "data": {
            "text/plain": [
              "<Figure size 640x480 with 1 Axes>"
            ],
            "image/png": "[encoded data removed]"
          },
          "metadata": {}
        }
      ]
    },
    {
      "cell_type": "code",
      "source": [
        "# 2. Plot one of the images in the test data, and then do inferencing to check what is the prediction of the model on that single image."
      ],
      "metadata": {
        "id": "gklrbGKyaF6s"
      },
      "execution_count": null,
      "outputs": []
    },
    {
      "cell_type": "code",
      "source": [
        "plt.imshow(test_data[0].reshape(28,28))\n",
        "print(\"predicted label:\",model.predict(test_data[0].reshape(1,784)))"
      ],
      "metadata": {
        "colab": {
          "base_uri": "https://localhost:8080/",
          "height": 482
        },
        "id": "MOL6pR4CaJjg",
        "outputId": "14f95bf3-0b83-43bc-b9cc-c7ed955eda5b"
      },
      "execution_count": 77,
      "outputs": [
        {
          "output_type": "stream",
          "name": "stdout",
          "text": [
            "1/1 [==============================] - 0s 23ms/step\n",
            "predicted label: [[1.3699414e-11 5.5950165e-11 5.9171907e-09 5.0092293e-08 1.2633333e-14\n",
            "  8.1401959e-13 1.3757090e-16 1.0000000e+00 1.9643913e-11 6.7646977e-09]]\n"
          ]
        },
        {
          "output_type": "display_data",
          "data": {
            "text/plain": [
              "<Figure size 640x480 with 1 Axes>"
            ],
            "image/png": "[encoded data removed]"
          },
          "metadata": {}
        }
      ]
    },
    {
      "cell_type": "code",
      "source": [
        "# Question3. We had used 2 hidden layers and Relu activation. Try to change the number of hidden layer and the activation to tanh or sigmoid and see what happens."
      ],
      "metadata": {
        "id": "XlwTfcHna28k"
      },
      "execution_count": null,
      "outputs": []
    },
    {
      "cell_type": "code",
      "source": [
        "#increasing the number of hidden layers to 6\n",
        "model = Sequential()\n",
        "model.add(Dense(512, activation='relu', input_shape=(dimData,)))\n",
        "model.add(Dense(512, activation='relu'))\n",
        "model.add(Dense(512, activation='relu'))\n",
        "model.add(Dense(512, activation='relu'))\n",
        "model.add(Dense(512, activation='relu'))\n",
        "model.add(Dense(512, activation='relu'))\n",
        "model.add(Dense(10, activation='softmax'))\n",
        "\n",
        "model.compile(optimizer='rmsprop', loss='categorical_crossentropy', metrics=['accuracy'])\n",
        "history = model.fit(train_data, train_labels_one_hot, batch_size=256, epochs=10, verbose=1,\n",
        "                   validation_data=(test_data, test_labels_one_hot))\n",
        "\n",
        "[test_loss1, test_acc1] = model.evaluate(test_data, test_labels_one_hot)\n",
        "print(\"Evaluation result on Test Data with 4 hidden layers: Loss = {}, accuracy = {}\".format(test_loss1, test_acc1))"
      ],
      "metadata": {
        "colab": {
          "base_uri": "https://localhost:8080/"
        },
        "id": "ugB9T6mja_6k",
        "outputId": "019aca46-f277-45b6-8cef-a71ac59f24c1"
      },
      "execution_count": null,
      "outputs": [
        {
          "output_type": "stream",
          "name": "stdout",
          "text": [
            "Epoch 1/10\n",
            "235/235 [==============================] - 22s 79ms/step - loss: 0.4662 - accuracy: 0.8513 - val_loss: 0.1973 - val_accuracy: 0.9433\n",
            "Epoch 2/10\n",
            "235/235 [==============================] - 19s 80ms/step - loss: 0.1289 - accuracy: 0.9628 - val_loss: 0.1909 - val_accuracy: 0.9413\n",
            "Epoch 3/10\n",
            "235/235 [==============================] - 17s 73ms/step - loss: 0.0802 - accuracy: 0.9765 - val_loss: 0.1122 - val_accuracy: 0.9680\n",
            "Epoch 4/10\n",
            "235/235 [==============================] - 18s 76ms/step - loss: 0.0553 - accuracy: 0.9836 - val_loss: 0.0801 - val_accuracy: 0.9766\n",
            "Epoch 5/10\n",
            "235/235 [==============================] - 17s 73ms/step - loss: 0.0428 - accuracy: 0.9876 - val_loss: 0.0736 - val_accuracy: 0.9811\n",
            "Epoch 6/10\n",
            "235/235 [==============================] - 19s 79ms/step - loss: 0.0322 - accuracy: 0.9907 - val_loss: 0.1040 - val_accuracy: 0.9736\n",
            "Epoch 7/10\n",
            "235/235 [==============================] - 17s 74ms/step - loss: 0.0249 - accuracy: 0.9927 - val_loss: 0.0742 - val_accuracy: 0.9816\n",
            "Epoch 8/10\n",
            "235/235 [==============================] - 17s 74ms/step - loss: 0.0223 - accuracy: 0.9933 - val_loss: 0.0866 - val_accuracy: 0.9792\n",
            "Epoch 9/10\n",
            "235/235 [==============================] - 18s 77ms/step - loss: 0.0176 - accuracy: 0.9947 - val_loss: 0.0738 - val_accuracy: 0.9836\n",
            "Epoch 10/10\n",
            "235/235 [==============================] - 17s 71ms/step - loss: 0.0131 - accuracy: 0.9960 - val_loss: 0.1204 - val_accuracy: 0.9789\n",
            "313/313 [==============================] - 2s 6ms/step - loss: 0.1204 - accuracy: 0.9789\n",
            "Evaluation result on Test Data with 4 hidden layers: Loss = 0.12035036832094193, accuracy = 0.9789000153541565\n"
          ]
        }
      ]
    },
    {
      "cell_type": "code",
      "source": [
        "#All hidden layers with tanh activation\n",
        "model = Sequential()\n",
        "model.add(Dense(512, activation='tanh', input_shape=(dimData,)))\n",
        "model.add(Dense(612, activation='tanh'))\n",
        "model.add(Dense(712, activation='tanh'))\n",
        "model.add(Dense(812, activation='tanh'))\n",
        "model.add(Dense(712, activation='tanh'))\n",
        "model.add(Dense(812, activation='tanh'))\n",
        "model.add(Dense(10, activation='softmax'))\n",
        "\n",
        "model.compile(optimizer='rmsprop', loss='categorical_crossentropy', metrics=['accuracy'])\n",
        "history = model.fit(train_data, train_labels_one_hot, batch_size=256, epochs=10, verbose=1,\n",
        "                   validation_data=(test_data, test_labels_one_hot))\n",
        "\n",
        "[test_loss2, test_acc2] = model.evaluate(test_data, test_labels_one_hot)\n",
        "print(\"Evaluation result on Test Data with tanh activation: Loss = {}, accuracy = {}\".format(test_loss2, test_acc3))"
      ],
      "metadata": {
        "colab": {
          "base_uri": "https://localhost:8080/"
        },
        "id": "qjX_3NsxcWVI",
        "outputId": "75b17ef4-dc15-4a9d-f5dd-10cf04c7f6c6"
      },
      "execution_count": null,
      "outputs": [
        {
          "output_type": "stream",
          "name": "stdout",
          "text": [
            "Epoch 1/10\n",
            "235/235 [==============================] - 30s 123ms/step - loss: 0.9363 - accuracy: 0.7794 - val_loss: 0.4335 - val_accuracy: 0.8734\n",
            "Epoch 2/10\n",
            "235/235 [==============================] - 27s 116ms/step - loss: 0.2987 - accuracy: 0.9114 - val_loss: 0.2467 - val_accuracy: 0.9250\n",
            "Epoch 3/10\n",
            "235/235 [==============================] - 29s 124ms/step - loss: 0.2152 - accuracy: 0.9353 - val_loss: 0.3681 - val_accuracy: 0.8900\n",
            "Epoch 4/10\n",
            "235/235 [==============================] - 29s 124ms/step - loss: 0.1835 - accuracy: 0.9438 - val_loss: 0.1775 - val_accuracy: 0.9511\n",
            "Epoch 5/10\n",
            "235/235 [==============================] - 29s 122ms/step - loss: 0.1547 - accuracy: 0.9527 - val_loss: 0.1881 - val_accuracy: 0.9441\n",
            "Epoch 6/10\n",
            "235/235 [==============================] - 28s 119ms/step - loss: 0.1434 - accuracy: 0.9567 - val_loss: 0.4201 - val_accuracy: 0.8851\n",
            "Epoch 7/10\n",
            "235/235 [==============================] - 28s 119ms/step - loss: 0.1286 - accuracy: 0.9607 - val_loss: 0.1772 - val_accuracy: 0.9487\n",
            "Epoch 8/10\n",
            "235/235 [==============================] - 28s 119ms/step - loss: 0.1150 - accuracy: 0.9635 - val_loss: 0.2263 - val_accuracy: 0.9392\n",
            "Epoch 9/10\n",
            "235/235 [==============================] - 28s 120ms/step - loss: 0.1085 - accuracy: 0.9661 - val_loss: 0.1745 - val_accuracy: 0.9478\n",
            "Epoch 10/10\n",
            "235/235 [==============================] - 27s 115ms/step - loss: 0.1019 - accuracy: 0.9680 - val_loss: 0.1615 - val_accuracy: 0.9545\n",
            "313/313 [==============================] - 4s 13ms/step - loss: 0.1615 - accuracy: 0.9545\n",
            "Evaluation result on Test Data with tanh activation: Loss = 0.16149692237377167, accuracy = 0.9660999774932861\n"
          ]
        }
      ]
    },
    {
      "cell_type": "code",
      "source": [
        "# Question4. Run the same code without scaling the images and check the performance?"
      ],
      "metadata": {
        "id": "S9oXfsjRebq6"
      },
      "execution_count": null,
      "outputs": []
    },
    {
      "cell_type": "code",
      "source": [
        "from keras import Sequential\n",
        "from keras.datasets import mnist\n",
        "import numpy as np\n",
        "from keras.layers import Dense\n",
        "from keras.utils import to_categorical\n",
        "\n",
        "(train_images,train_labels),(test_images, test_labels) = mnist.load_data()\n",
        "\n",
        "print(train_images.shape[1:])\n",
        "#process the data\n",
        "#1. convert each image of shape 28*28 to 784 dimensional which will be fed to the network as a single feature\n",
        "dimData = np.prod(train_images.shape[1:])\n",
        "# print(dimData)\n",
        "train_data = train_images.reshape(train_images.shape[0],dimData)\n",
        "test_data = test_images.reshape(test_images.shape[0],dimData)\n",
        "\n",
        "#convert data to float and scale values between 0 and 1\n",
        "train_data = train_data.astype('float')\n",
        "test_data = test_data.astype('float')\n",
        "\n",
        "#change the labels frominteger to one-hot encoding. to_categorical is doing the same thing as LabelEncoder()\n",
        "train_labels_one_hot = to_categorical(train_labels)\n",
        "test_labels_one_hot = to_categorical(test_labels)\n",
        "#creating network\n",
        "model = Sequential()\n",
        "model.add(Dense(512, activation='relu', input_shape=(dimData,)))\n",
        "model.add(Dense(512, activation='relu'))\n",
        "model.add(Dense(10, activation='softmax'))\n",
        "\n",
        "model.compile(optimizer='rmsprop', loss='categorical_crossentropy', metrics=['accuracy'])\n",
        "history = model.fit(train_data, train_labels_one_hot, batch_size=256, epochs=10, verbose=1,\n",
        "                   validation_data=(test_data, test_labels_one_hot))\n",
        "\n",
        "[test_loss3, test_acc3] = model.evaluate(test_data, test_labels_one_hot)\n",
        "print(\"Evaluation result on Test Data without scaling: Loss = {}, accuracy = {}\".format(test_loss3, test_acc3))"
      ],
      "metadata": {
        "colab": {
          "base_uri": "https://localhost:8080/"
        },
        "id": "0HKXo71xegsm",
        "outputId": "1902dcff-d604-4a43-8ab6-56072475b284"
      },
      "execution_count": 79,
      "outputs": [
        {
          "output_type": "stream",
          "name": "stdout",
          "text": [
            "(28, 28)\n",
            "Epoch 1/10\n",
            "235/235 [==============================] - 8s 33ms/step - loss: 5.5017 - accuracy: 0.8737 - val_loss: 0.7566 - val_accuracy: 0.9163\n",
            "Epoch 2/10\n",
            "235/235 [==============================] - 6s 27ms/step - loss: 0.4015 - accuracy: 0.9454 - val_loss: 0.3329 - val_accuracy: 0.9374\n",
            "Epoch 3/10\n",
            "235/235 [==============================] - 7s 31ms/step - loss: 0.2481 - accuracy: 0.9582 - val_loss: 0.5252 - val_accuracy: 0.9272\n",
            "Epoch 4/10\n",
            "235/235 [==============================] - 6s 26ms/step - loss: 0.1952 - accuracy: 0.9658 - val_loss: 0.2751 - val_accuracy: 0.9550\n",
            "Epoch 5/10\n",
            "235/235 [==============================] - 8s 32ms/step - loss: 0.1638 - accuracy: 0.9704 - val_loss: 0.2328 - val_accuracy: 0.9660\n",
            "Epoch 6/10\n",
            "235/235 [==============================] - 6s 26ms/step - loss: 0.1518 - accuracy: 0.9746 - val_loss: 0.3150 - val_accuracy: 0.9609\n",
            "Epoch 7/10\n",
            "235/235 [==============================] - 8s 33ms/step - loss: 0.1467 - accuracy: 0.9787 - val_loss: 0.3059 - val_accuracy: 0.9659\n",
            "Epoch 8/10\n",
            "235/235 [==============================] - 7s 28ms/step - loss: 0.1302 - accuracy: 0.9801 - val_loss: 0.4541 - val_accuracy: 0.9566\n",
            "Epoch 9/10\n",
            "235/235 [==============================] - 8s 34ms/step - loss: 0.1363 - accuracy: 0.9816 - val_loss: 0.3156 - val_accuracy: 0.9703\n",
            "Epoch 10/10\n",
            "235/235 [==============================] - 6s 27ms/step - loss: 0.1201 - accuracy: 0.9839 - val_loss: 0.3060 - val_accuracy: 0.9733\n",
            "313/313 [==============================] - 1s 4ms/step - loss: 0.3060 - accuracy: 0.9733\n",
            "Evaluation result on Test Data without scaling: Loss = 0.30600711703300476, accuracy = 0.9732999801635742\n"
          ]
        }
      ]
    }
  ]
}